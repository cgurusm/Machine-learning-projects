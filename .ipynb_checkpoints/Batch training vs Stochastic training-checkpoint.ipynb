{
 "cells": [
  {
   "cell_type": "markdown",
   "metadata": {},
   "source": [
    "#### Batch training vs Stochastic training\n",
    "\n",
    "In order for Tensorflow to compute the variable gradient for backpropagation to work, we have to measure the loss on one example or on the average of multiple examples at once. Stochastic training is only putting througone randomly selected example at a time, just we did in the previous example, while batch training will take a larger portion and average over them before updating the variables. Batch sizes may vary.\n",
    "\n",
    ">In the example below, we would perform update on the variable using batch gradient descent"
   ]
  },
  {
   "cell_type": "code",
   "execution_count": 107,
   "metadata": {},
   "outputs": [],
   "source": [
    "#Load our libraries\n",
    "import matplotlib.pyplot as plt\n",
    "import numpy as np\n",
    "import tensorflow as tf\n",
    "sess = tf.Session()"
   ]
  },
  {
   "cell_type": "markdown",
   "metadata": {},
   "source": [
    "> we declare the batch size. This is how many data observation will be fed into the computational graph as once:\n",
    "    "
   ]
  },
  {
   "cell_type": "code",
   "execution_count": 108,
   "metadata": {},
   "outputs": [],
   "source": [
    "batch_size = 20"
   ]
  },
  {
   "cell_type": "markdown",
   "metadata": {},
   "source": [
    "> Next we declare the data, Variables and Placholders. We will make them 2 dimensional because of the batch size. The first dimension which will hold the batch size will be set to None. None here is a generalization which means it can accept any dimension later, and the second dimension is number of features/points a particular data has."
   ]
  },
  {
   "cell_type": "code",
   "execution_count": 128,
   "metadata": {},
   "outputs": [],
   "source": [
    "x_vals = np.random.normal(1, 0.1, 100)\n",
    "y_vals = np.repeat(10., 100)\n",
    "\n",
    "X_data = tf.placeholder(shape=[None, 1], dtype=tf.float32)\n",
    "Y_target = tf.placeholder(shape=[None, 1], dtype=tf.float32)\n",
    "\n",
    "W = tf.Variable(tf.constant(0., shape=[1,1]))   #It is good practice to initialize the weight to zero\n"
   ]
  },
  {
   "cell_type": "markdown",
   "metadata": {},
   "source": [
    ">Now we add our operation to the graph, which will now be matrix\n",
    "multiplication -because we vectorizing over multiple samples at a time- instead of regular multiplication. Remember that matrix\n",
    "multiplication is not communicative so we have to enter the matrices\n",
    "in the correct order in the matmul() function:"
   ]
  },
  {
   "cell_type": "code",
   "execution_count": 130,
   "metadata": {},
   "outputs": [],
   "source": [
    "Y_pred = tf.matmul(X_data, W)\n",
    "\n",
    "# initialize our variables\n",
    "init = tf.global_variables_initializer()\n",
    "sess.run(init)"
   ]
  },
  {
   "cell_type": "markdown",
   "metadata": {},
   "source": [
    "> Since we are doing batch update, our Loss function (L2 norm in this case) will change because we have to average over all the L2 losses of each data point in the batch. We do this by wrapping our normal L2 loss function in the Tensorflow's ```reduce_mean()``` function:"
   ]
  },
  {
   "cell_type": "code",
   "execution_count": 131,
   "metadata": {},
   "outputs": [],
   "source": [
    "loss = tf.reduce_mean(tf.square(Y_pred - Y_target))\n",
    "\n",
    "# Declare the optimizer (G.D)\n",
    "my_opt = tf.train.GradientDescentOptimizer(0.02)\n",
    "train_step = my_opt.minimize(loss)"
   ]
  },
  {
   "cell_type": "markdown",
   "metadata": {},
   "source": [
    "> Finally we define our training loop and iterate on the training step to optimize the algorithm. Here we will store the resulting losses on every 20 intervals in a list so we can plot and compare the result with stochastic version "
   ]
  },
  {
   "cell_type": "code",
   "execution_count": 132,
   "metadata": {},
   "outputs": [
    {
     "name": "stdout",
     "output_type": "stream",
     "text": [
      "Step # 5 W =  [[1.8312557]]\n",
      "Loss =  67.06395\n",
      "Step # 10 W =  [[3.3484054]]\n",
      "Loss =  44.29212\n",
      "Step # 15 W =  [[4.5652475]]\n",
      "Loss =  28.448627\n",
      "Step # 20 W =  [[5.561749]]\n",
      "Loss =  19.111248\n",
      "Step # 25 W =  [[6.371268]]\n",
      "Loss =  13.332352\n",
      "Step # 30 W =  [[7.0357347]]\n",
      "Loss =  9.781584\n",
      "Step # 35 W =  [[7.572345]]\n",
      "Loss =  6.392692\n",
      "Step # 40 W =  [[8.017921]]\n",
      "Loss =  5.0436687\n",
      "Step # 45 W =  [[8.391407]]\n",
      "Loss =  3.3448594\n",
      "Step # 50 W =  [[8.682007]]\n",
      "Loss =  2.7619665\n",
      "Step # 55 W =  [[8.90432]]\n",
      "Loss =  1.9406185\n",
      "Step # 60 W =  [[9.099782]]\n",
      "Loss =  1.2964511\n",
      "Step # 65 W =  [[9.271632]]\n",
      "Loss =  1.0805912\n",
      "Step # 70 W =  [[9.439992]]\n",
      "Loss =  1.52861\n",
      "Step # 75 W =  [[9.551593]]\n",
      "Loss =  0.8340844\n",
      "Step # 80 W =  [[9.639723]]\n",
      "Loss =  0.47476703\n",
      "Step # 85 W =  [[9.711311]]\n",
      "Loss =  0.79173136\n",
      "Step # 90 W =  [[9.74951]]\n",
      "Loss =  0.91868913\n",
      "Step # 95 W =  [[9.792597]]\n",
      "Loss =  0.44345206\n",
      "Step # 100 W =  [[9.825603]]\n",
      "Loss =  0.72627574\n"
     ]
    }
   ],
   "source": [
    "loss_batch = []\n",
    "\n",
    "for i in range(100):\n",
    "    #pick a random 20 data points\n",
    "    rand_index = np.random.choice(100, size=batch_size)\n",
    "    x_batch = np.transpose([x_vals[rand_index]])  # Transpose to the correct shape\n",
    "    y_batch = np.transpose([y_vals[rand_index]])\n",
    "    sess.run(train_step, feed_dict={X_data: x_batch, Y_target:y_batch})\n",
    "    #Print the result after 5 intervals\n",
    "    if(i+1) % 5 == 0:\n",
    "        print('Step #', str(i+1), 'W = ', str(sess.run(W)))\n",
    "        temp_loss = sess.run(loss, feed_dict={X_data: x_batch, Y_target:y_batch})\n",
    "        loss_batch.append(temp_loss)\n",
    "        print('Loss = ', temp_loss)\n"
   ]
  },
  {
   "cell_type": "markdown",
   "metadata": {},
   "source": [
    "> Batch training and stochastic training differ in their optimization method\n",
    "and their convergence. Finding a good batch size can be difficult. To see\n",
    "how convergence differs between batch and stochastic, we are going to plot the batch loss from above against the stochastic loss."
   ]
  },
  {
   "cell_type": "code",
   "execution_count": 133,
   "metadata": {},
   "outputs": [],
   "source": [
    "# Re-initialize our weight to zero again and perform the optimization on the same dataset\n",
    "W = tf.Variable(tf.constant(0., shape=[1,1]))   #It is good practice to initialize the weight to zero\n",
    "Y_pred = tf.matmul(X_data, W)\n",
    "\n",
    "# initialize our variables\n",
    "init = tf.global_variables_initializer()\n",
    "sess.run(init)\n"
   ]
  },
  {
   "cell_type": "code",
   "execution_count": 134,
   "metadata": {},
   "outputs": [
    {
     "name": "stdout",
     "output_type": "stream",
     "text": [
      "Step # 5 W =  [[0.]]\n",
      "Loss =  71.557076\n",
      "Step # 10 W =  [[0.]]\n",
      "Loss =  47.528435\n",
      "Step # 15 W =  [[0.]]\n",
      "Loss =  34.38608\n",
      "Step # 20 W =  [[0.]]\n",
      "Loss =  14.534524\n",
      "Step # 25 W =  [[0.]]\n",
      "Loss =  18.006735\n",
      "Step # 30 W =  [[0.]]\n",
      "Loss =  2.7060955\n",
      "Step # 35 W =  [[0.]]\n",
      "Loss =  1.9482912\n",
      "Step # 40 W =  [[0.]]\n",
      "Loss =  4.4245973\n",
      "Step # 45 W =  [[0.]]\n",
      "Loss =  6.4716406\n",
      "Step # 50 W =  [[0.]]\n",
      "Loss =  0.031628504\n",
      "Step # 55 W =  [[0.]]\n",
      "Loss =  0.28665257\n",
      "Step # 60 W =  [[0.]]\n",
      "Loss =  0.004530938\n",
      "Step # 65 W =  [[0.]]\n",
      "Loss =  2.2774143\n",
      "Step # 70 W =  [[0.]]\n",
      "Loss =  0.02392008\n",
      "Step # 75 W =  [[0.]]\n",
      "Loss =  0.00026231856\n",
      "Step # 80 W =  [[0.]]\n",
      "Loss =  0.30289057\n",
      "Step # 85 W =  [[0.]]\n",
      "Loss =  2.0122638\n",
      "Step # 90 W =  [[0.]]\n",
      "Loss =  0.7046809\n",
      "Step # 95 W =  [[0.]]\n",
      "Loss =  0.2543571\n",
      "Step # 100 W =  [[0.]]\n",
      "Loss =  0.104610085\n"
     ]
    }
   ],
   "source": [
    "loss_stochastic = []\n",
    "\n",
    "for i in range(100):\n",
    "    #pick a random 1 data points\n",
    "    rand_index = np.random.choice(100, size=1)\n",
    "    x_rand = np.transpose([x_vals[rand_index]])  # Transpose to the correct shape\n",
    "    y_rand = np.transpose([y_vals[rand_index]])\n",
    "    sess.run(train_step, feed_dict={X_data: x_rand, Y_target:y_rand})\n",
    "    #Print the result after 5 intervals\n",
    "    if(i+1) % 5 == 0:\n",
    "        print('Step #', str(i+1), 'W = ', str(sess.run(W)))\n",
    "        temp_loss = sess.run(loss, feed_dict={X_data: x_rand, Y_target:y_rand})\n",
    "        loss_stochastic.append(temp_loss)\n",
    "        print('Loss = ', temp_loss)"
   ]
  },
  {
   "cell_type": "code",
   "execution_count": 136,
   "metadata": {},
   "outputs": [
    {
     "data": {
      "image/png": "[encoded data removed]",
      "text/plain": [
       "<Figure size 432x288 with 1 Axes>"
      ]
     },
     "metadata": {},
     "output_type": "display_data"
    }
   ],
   "source": [
    "\n",
    "plt.plot(range(0, 100, 5), loss_batch, 'r--', label='Batch Loss')\n",
    "plt.plot(range(0, 100, 5), loss_stochastic, 'b-', label='Stochastic Loss')\n",
    "plt.legend(loc='upper right')\n",
    "plt.title('Batch training vs Stochastic training')\n",
    "plt.show()"
   ]
  },
  {
   "cell_type": "markdown",
   "metadata": {},
   "source": [
    "> Note that from the plot above, the batch loss is much more smoother and the stochastic much erratic\n",
    "\n",
    "Advantages of Stochastic training\n",
    "- Randomness helps it avoid local minimums\n",
    "\n",
    "Disadvantages of Stochastic training\n",
    "- Generally, needs more iterations to converge.\n",
    "\n",
    "Advantages of Batch training\n",
    "- Find minimums quicker\n",
    "\n",
    "Disadvantages of Batch training\n",
    "- Takes more computational power to compute\n"
   ]
  },
  {
   "cell_type": "markdown",
   "metadata": {},
   "source": []
  }
 ],
 "metadata": {
  "kernelspec": {
   "display_name": "Python 3",
   "language": "python",
   "name": "python3"
  },
  "language_info": {
   "codemirror_mode": {
    "name": "ipython",
    "version": 3
   },
   "file_extension": ".py",
   "mimetype": "text/x-python",
   "name": "python",
   "nbconvert_exporter": "python",
   "pygments_lexer": "ipython3",
   "version": "3.5.2"
  }
 },
 "nbformat": 4,
 "nbformat_minor": 2
}
